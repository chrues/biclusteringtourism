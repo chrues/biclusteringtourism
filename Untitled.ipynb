{
 "cells": [
  {
   "cell_type": "code",
   "execution_count": 1,
   "metadata": {},
   "outputs": [
    {
     "name": "stdout",
     "output_type": "stream",
     "text": [
      "Enter the name of the file: \n",
      "NoneMODIFIED_DatiP2_2_NONvisitatori.csv\n",
      "Choose the method with which you would like to replace the non values: A B C D\n",
      "NoneD\n",
      "Enter the name of the file you would like to save your changes to: \n",
      "NoneMODIFIED_DatiP2_2_NONvisitatori.csv\n"
     ]
    }
   ],
   "source": [
    "import operations_missingData"
   ]
  },
  {
   "cell_type": "code",
   "execution_count": 2,
   "metadata": {},
   "outputs": [],
   "source": [
    "import pandas as pd \n",
    "import numpy as np"
   ]
  },
  {
   "cell_type": "code",
   "execution_count": 3,
   "metadata": {
    "scrolled": true
   },
   "outputs": [],
   "source": [
    "df = pd.read_csv('MODIFIED_DatiP2_2_NONvisitatori.csv',engine='python')\n",
    "tfile = open('MODIFIED_DatiP2_2_NONvisitatori.txt', 'a')\n",
    "tfile.write(df.to_string())\n",
    "tfile.close()"
   ]
  },
  {
   "cell_type": "code",
   "execution_count": null,
   "metadata": {},
   "outputs": [],
   "source": []
  }
 ],
 "metadata": {
  "kernelspec": {
   "display_name": "Python 3",
   "language": "python",
   "name": "python3"
  },
  "language_info": {
   "codemirror_mode": {
    "name": "ipython",
    "version": 3
   },
   "file_extension": ".py",
   "mimetype": "text/x-python",
   "name": "python",
   "nbconvert_exporter": "python",
   "pygments_lexer": "ipython3",
   "version": "3.6.4"
  }
 },
 "nbformat": 4,
 "nbformat_minor": 2
}
